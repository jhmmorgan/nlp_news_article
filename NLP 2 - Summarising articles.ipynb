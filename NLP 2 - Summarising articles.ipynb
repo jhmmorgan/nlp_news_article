{
 "cells": [
  {
   "cell_type": "markdown",
   "id": "hawaiian-canadian",
   "metadata": {},
   "source": [
    "# NLP 2. Summarising an article of text\n",
    "\n",
    "**James Morgan (jhmmorgan)**\n",
    "\n",
    "_2022-05-04_\n",
    "\n",
    "# 📖 Background\n",
    "\n",
    "We want a proof of concept, where an end user can easily be provided with a summary of a news article, along with a warning on whether the text is likely to contain hate speech or fake news.\n",
    "\n",
    "This proof of concept would be in the form of a standalone application that when provided the URL to a news article, provides the end-user with the summary of the article, along with a flag if the article may contain hate speech or fake news.\n",
    "\n",
    "### The Task\n",
    "This notebook is **Part 2** of my NLP project. The task of this notebook is to create the model that will help us summarise an article.\n",
    "\n",
    "\n",
    "# 🔬 Approach\n",
    "There are several techniques that can be used to summarise text.  Two techniques are\n",
    "1. **Extractive Text Summarisation Technique**\n",
    "2. **Abstractive Summarisation Technique**\n",
    "\n",
    "If you were to ask a human to summarise an article of text, it'll likely be though an abstractive summarisation technique.  This is where we would write an entirely new sentence, using different volcabulary to paragraph the original text.\n",
    "\n",
    "The other technique, **extractive text summarisation** is very different.  Rather than paraphrasing the article, it'll extract the most important, or unique sentences from the article and return these.  It's a task that computers are great at and it doesn't require a model to be fitted with existing data.\n",
    "\n",
    "My approach uses the extractive text technique as an abstractive approach is much more complicated and out of scope for this proof of concept.\n",
    "\n",
    "<div class=\"alert alert-block alert-info\">\n",
    "<b>So how does this technique work?</b>\n",
    "</div>\n",
    "\n",
    "\n",
    "The model is fairly simple.\n",
    "1. First, we preprocess the provided text:\n",
    "    - First, we need to tweak our text\n",
    "        - As we want to return the most importance sentences, we'll want to eventually separate the article into a list of sentences.  Before we do this however, we'll need to make some amendments.  \n",
    "        - As we use periods (.) to seperate each sentence, I've found that articles that contain a ranking or seeding, such as \"Python is No. 1.\" would incorrectly result in two sentences, \"Python is No\" and \"1\".\n",
    "        - I therefore look for rankings and remove the period. In our example, this amends the sentence to \"Python is No1\".\n",
    "     - Once I've made these amendment, I'll then split the article into a list of individual sentences\n",
    "     - I then reformat the data to remove any special characters or special formatting.\n",
    "     - The final pre-processing step is to break each sentence in our list into a sublist of individual words\n",
    "2. We then compare each sentence to every other sentence.  \n",
    "    - If our article contains three sentences, we'll be performing six compares.  If our article contained ten sentences then we'd be performing 90 compare.\n",
    "    - When comparing two sentences, we compare the sentences cosine distance\n",
    "        - We get all the unique words from any two sentences\n",
    "        - Create a vector of each sentence by doing a word count for each of these words\n",
    "        - Produce a matrix containing the cosine distance of this vector\n",
    "3. We then rank each sentence on how similar they are, with the most unique sentences getting a higher score than sentences that are similar to others.\n",
    "4. Finally, we extract the top sentences and output them in their original order.\n",
    "    - What this means is that within an article, if we wanted the top 2 sentnces and found that sentence 5 scored the highest, followed by sentence 3, we wouldn't want to output sentence 5 and then sentence 3, as this may not make sense to the end-user.  We'd instead want to output sentence 3 and then sentence 5.\n",
    "\n",
    "<div class=\"alert alert-block alert-info\">\n",
    "<b>So how does this look in practice?</b>\n",
    "</div>\n",
    "\n",
    "\n",
    "# 📚 Libraries and functions\n",
    "We'll start by loading the libraries and then loading in the example data containing various articles of text."
   ]
  },
  {
   "cell_type": "code",
   "execution_count": 1,
   "id": "joined-rapid",
   "metadata": {},
   "outputs": [],
   "source": [
    "import pandas as pd\n",
    "from utils import *\n",
    "from nlp_summary import *"
   ]
  },
  {
   "cell_type": "code",
   "execution_count": 2,
   "id": "absent-sunset",
   "metadata": {},
   "outputs": [
    {
     "name": "stdout",
     "output_type": "stream",
     "text": [
      "\u001b[1;4mHeading of our example data\u001b[0m\n"
     ]
    },
    {
     "data": {
      "text/html": [
       "<div>\n",
       "<style scoped>\n",
       "    .dataframe tbody tr th:only-of-type {\n",
       "        vertical-align: middle;\n",
       "    }\n",
       "\n",
       "    .dataframe tbody tr th {\n",
       "        vertical-align: top;\n",
       "    }\n",
       "\n",
       "    .dataframe thead th {\n",
       "        text-align: right;\n",
       "    }\n",
       "</style>\n",
       "<table border=\"1\" class=\"dataframe\">\n",
       "  <thead>\n",
       "    <tr style=\"text-align: right;\">\n",
       "      <th></th>\n",
       "      <th>article_id</th>\n",
       "      <th>article_text</th>\n",
       "      <th>source</th>\n",
       "    </tr>\n",
       "  </thead>\n",
       "  <tbody>\n",
       "    <tr>\n",
       "      <th>0</th>\n",
       "      <td>1</td>\n",
       "      <td>Maria Sharapova has basically no friends as te...</td>\n",
       "      <td>https://www.tennisworldusa.org/tennis/news/Mar...</td>\n",
       "    </tr>\n",
       "    <tr>\n",
       "      <th>1</th>\n",
       "      <td>2</td>\n",
       "      <td>BASEL, Switzerland (AP), Roger Federer advance...</td>\n",
       "      <td>http://www.tennis.com/pro-game/2018/10/copil-s...</td>\n",
       "    </tr>\n",
       "    <tr>\n",
       "      <th>2</th>\n",
       "      <td>3</td>\n",
       "      <td>Roger Federer has revealed that organisers of ...</td>\n",
       "      <td>https://scroll.in/field/899938/tennis-roger-fe...</td>\n",
       "    </tr>\n",
       "    <tr>\n",
       "      <th>3</th>\n",
       "      <td>4</td>\n",
       "      <td>Kei Nishikori will try to end his long losing ...</td>\n",
       "      <td>http://www.tennis.com/pro-game/2018/10/nishiko...</td>\n",
       "    </tr>\n",
       "    <tr>\n",
       "      <th>4</th>\n",
       "      <td>5</td>\n",
       "      <td>Federer, 37, first broke through on tour over ...</td>\n",
       "      <td>https://www.express.co.uk/sport/tennis/1036101...</td>\n",
       "    </tr>\n",
       "  </tbody>\n",
       "</table>\n",
       "</div>"
      ],
      "text/plain": [
       "   article_id                                       article_text  \\\n",
       "0           1  Maria Sharapova has basically no friends as te...   \n",
       "1           2  BASEL, Switzerland (AP), Roger Federer advance...   \n",
       "2           3  Roger Federer has revealed that organisers of ...   \n",
       "3           4  Kei Nishikori will try to end his long losing ...   \n",
       "4           5  Federer, 37, first broke through on tour over ...   \n",
       "\n",
       "                                              source  \n",
       "0  https://www.tennisworldusa.org/tennis/news/Mar...  \n",
       "1  http://www.tennis.com/pro-game/2018/10/copil-s...  \n",
       "2  https://scroll.in/field/899938/tennis-roger-fe...  \n",
       "3  http://www.tennis.com/pro-game/2018/10/nishiko...  \n",
       "4  https://www.express.co.uk/sport/tennis/1036101...  "
      ]
     },
     "execution_count": 2,
     "metadata": {},
     "output_type": "execute_result"
    }
   ],
   "source": [
    "df = pd.read_csv(\"./data/summary.csv\")\n",
    "print2.heading(\"Heading of our example data\")\n",
    "df.head()"
   ]
  },
  {
   "cell_type": "markdown",
   "id": "daily-intersection",
   "metadata": {},
   "source": [
    "---\n",
    "\n",
    "\n",
    "# ⚙️ Summarise model in action"
   ]
  },
  {
   "cell_type": "code",
   "execution_count": 3,
   "id": "quantitative-routine",
   "metadata": {},
   "outputs": [],
   "source": [
    "sw      = summarise()\n",
    "summary = sw.generate_summary(df.article_text, split = \"  \")"
   ]
  },
  {
   "cell_type": "code",
   "execution_count": 4,
   "id": "immune-album",
   "metadata": {},
   "outputs": [
    {
     "name": "stdout",
     "output_type": "stream",
     "text": [
      "\u001b[1;4mArticle 1\u001b[0m\n",
      "Maria Sharapova has basically no friends as tennis players on the WTA Tour. The Russian player has no problems in openly speaking about it and in a recent interview she said: 'I don't really hide any feelings too much. I think everyone knows this is my job here. When I'm on the courts or when I'm on the court playing, I'm a competitor and I want to beat every single person whether they're in the locker room or across the net.So I'm not the one to strike up a conversation about the weather and know that in the next few minutes I have to go and try to win a tennis match. I'm a pretty competitive girl. I say my hellos, but I'm not sending any players flowers as well. Uhm, I'm not really friendly or close to many players. I have not a lot of friends away from the courts.' When she said she is not really close to a lot of players, is that something strategic that she is doing? Is it different on the men's tour than the women's tour? 'No, not at all. I think just because you're in the same sport doesn't mean that you have to be friends with everyone just because you're categorized, you're a tennis player, so you're going to get along with tennis players. I think every person has different interests. I have friends that have completely different jobs and interests, and I've met them in very different parts of my life. I think everyone just thinks because we're tennis players we should be the greatest of friends. But ultimately tennis is just a very small part of what we do. There are so many other things that we're interested in, that we do.'\n",
      "\n",
      "\u001b[1;4mSummary of Article 1\u001b[0m\n",
      "Uhm, I'm not really friendly or close to many players.  I think just because you're in the same sport doesn't mean that you have to be friends with everyone just because you're categorized, you're a tennis player, so you're going to get along with tennis players.  I think everyone just thinks because we're tennis players we should be the greatest of friends.\n"
     ]
    }
   ],
   "source": [
    "print2.heading(\"Article 1\")\n",
    "print(df['article_text'][0])\n",
    "print()\n",
    "print2.heading(\"Summary of Article 1\")\n",
    "print(summary[0])"
   ]
  },
  {
   "cell_type": "code",
   "execution_count": 5,
   "id": "incredible-companion",
   "metadata": {},
   "outputs": [
    {
     "name": "stdout",
     "output_type": "stream",
     "text": [
      "\u001b[1;4mArticle 5\u001b[0m\n",
      "Nadal has not played tennis since he was forced to retire from the US Open semi-finals against Juan Martin Del Porto with a knee injury. The world No 1 has been forced to miss Spain's Davis Cup clash with France and the Asian hard court season. But with the ATP World Tour Finals due to begin next month, Nadal is ready to prove his fitness before the season-ending event at the 02 Arena. Nadal flew to Paris on Friday and footage from the Paris Masters official Twitter account shows the Spaniard smiling as he strides onto court for practice. The Paris Masters draw has been made and Nadal will start his campaign on Tuesday or Wednesday against either Fernando Verdasco or Jeremy Chardy. Nadal could then play defending champion Jack Sock in the third round before a potential quarter-final with either Borna Coric or Dominic Thiem. Nadal's appearance in Paris is a big boost to the tournament organisers who could see Roger Federer withdraw. Federer is in action at the Swiss Indoors in Basel and if he reaches the final, he could pull out of Paris in a bid to stay fresh for London. But as it stands, Federer is in the draw and is scheduled to face either former world No 3 Milos Raonic or Jo-Wilfried Tsonga in the second round. Federer's projected route to the Paris final could also lead to matches against Kevin Anderson and Novak Djokovic. Djokovic could play Marco Cecchinato in the second round. British No 1 Kyle Edmund is the 12th seed in Paris and will get underway in round two against either Karen Khachanov or Filip Krajinovic.\n",
      "\n",
      "\u001b[1;4mSummary of Article 5\u001b[0m\n",
      "Nadal flew to Paris on Friday and footage from the Paris Masters official Twitter account shows the Spaniard smiling as he strides onto court for practice.  The Paris Masters draw has been made and Nadal will start his campaign on Tuesday or Wednesday against either Fernando Verdasco or Jeremy Chardy.  Nadal could then play defending champion Jack Sock in the third round before a potential quarter-final with either Borna Coric or Dominic Thiem.\n"
     ]
    }
   ],
   "source": [
    "print2.heading(\"Article 5\")\n",
    "print(df['article_text'][5])\n",
    "print()\n",
    "print2.heading(\"Summary of Article 5\")\n",
    "print(summary[5])"
   ]
  },
  {
   "cell_type": "markdown",
   "id": "incorporated-stream",
   "metadata": {},
   "source": [
    "---\n",
    "\n",
    "\n",
    "# 🎓 Summary\n",
    "This concludes the second part of our NLP project.  Using a simple custom class that we import in, we can easily create a summary of any article or set of articles, whilst deciding how many sentences to return.\n",
    "\n",
    "Whilst the summary may not always make perfect sense, this is a very efficient and quick way to summarise any article of text."
   ]
  }
 ],
 "metadata": {
  "kernelspec": {
   "display_name": "Python (3.9)",
   "language": "python",
   "name": "python39"
  },
  "language_info": {
   "codemirror_mode": {
    "name": "ipython",
    "version": 3
   },
   "file_extension": ".py",
   "mimetype": "text/x-python",
   "name": "python",
   "nbconvert_exporter": "python",
   "pygments_lexer": "ipython3",
   "version": "3.9.11"
  }
 },
 "nbformat": 4,
 "nbformat_minor": 5
}
