{
 "cells": [
  {
   "cell_type": "markdown",
   "id": "understood-secret",
   "metadata": {},
   "source": [
    "# NLP 3. Scraping news articles from URL's\n",
    "\n",
    "**James Morgan (jhmmorgan)**\n",
    "\n",
    "_2022-05-11_\n",
    "\n",
    "# 📖 Background\n",
    "\n",
    "We want a proof of concept, where an end user can easily be provided with a summary of a news article, along with a warning on whether the text is likely to contain hate speech or fake news.\n",
    "\n",
    "This proof of concept would be in the form of a standalone application that when provided the URL to a news article, provides the end-user with the summary of the article, along with a flag if the article may contain hate speech or fake news.\n",
    "\n",
    "### The Task\n",
    "This notebook is **Part 3** of my NLP project. The task of this notebook is to scrape the relevant text from a provided URL.  This text can then be processed by our various NLP models.\n",
    "\n",
    "\n",
    "# 🔬 Approach\n",
    "This is a fairly easy task, thanks to the amazing library **BeautifulSoup**.  Extracting raw text from any URL is fairly simple with only a few lines of code, however configuation is needed to scrape just the relevant parts of that text.\n",
    "\n",
    "Many news sites have additional links, side articles and advertisements in addition to a lot of meta (hidden to the eye, but often useful) data.  If we were to get all text, we'd potentially return useless articles that contain much of this additional information.\n",
    "\n",
    "There are several approachs we can take to get around this.\n",
    "\n",
    "Most news sites uses classes or ID's that are unique to the text of the main article.  We can filter the text to only include paragraphs within these identifiers.  The pro is that this is the most accurate way of obtaining the relevant text, however the con is that it relies on a custom-defined approach that's unique for each website. In otherwords, I have to provide the identifiers for each website and if I've not completed this for a website, then it won't work.\n",
    "\n",
    "An alternative is to either use a third-party library that extracts the article for us, or build a machine learning model that identifies which classes are likely for an article.  Both of which are out of scope for a proof-of-concept.\n",
    "\n",
    "\n",
    "<div class=\"alert alert-block alert-info\">\n",
    "<b>So how does our technique work?</b>\n",
    "</div>\n",
    "\n",
    "Rather than write separate classes for each news URL, we can create a dictionary that contains the tags to search for or remove, e.g. the following will search the for any **id** tag containing **maincontent**,\n",
    "```python\n",
    "{\"theguardian\" : [{\"id\" : \"maincontent\"}]}\n",
    "```\n",
    "whereas, the following will search for any **class** tag containing **sdc-article-body--story**, whilst excluding any **class** tags containing **sdc-site-related-stories** or **sdc-site-video** found within the results.\n",
    "```python \n",
    "{\"sky\"         : [{\"class_\" : \"sdc-article-body--story\"}, {\"class_\" : [\"sdc-site-video\", \"sdc-article-related-stories\"]}]}\n",
    "```\n",
    "\n",
    "<div class=\"alert alert-block alert-info\">\n",
    "<b>So how does this look in practice?</b>\n",
    "</div>\n",
    "\n",
    "# 📚 Libraries and functions\n",
    "We'll start by loading the libraries and then loading in the example data containing various articles of text."
   ]
  },
  {
   "cell_type": "code",
   "execution_count": 1,
   "id": "acting-quick",
   "metadata": {},
   "outputs": [],
   "source": [
    "from utils import *\n",
    "from nlp_web_scraper import *"
   ]
  },
  {
   "cell_type": "markdown",
   "id": "violent-secret",
   "metadata": {},
   "source": [
    "---\n",
    "\n",
    "\n",
    "# ⚙️ Output of extracted text\n",
    "\n",
    "We'll then decide which URL to extract an article from and display it"
   ]
  },
  {
   "cell_type": "code",
   "execution_count": 2,
   "id": "stylish-horizontal",
   "metadata": {
    "tags": []
   },
   "outputs": [
    {
     "name": "stdout",
     "output_type": "stream",
     "text": [
      "Britain's cost of living squeeze and the future of the prime minister have taken centre stage as party leaders delivered their final messages to voters on the eve of local elections.Labour leader Sir Keir Starmer said Thursday's local elections, in which thousands of seats across England, Scotland and Wales will be up for grabs, was \"a chance to send a message to the government about their abject failure\".But Prime Minister Boris Johnson said it was his Conservative party that would be the best choice \"if you want help with your family budgets and you want to make sure you've got more at the end of the month\".You can find results where you live with our dedicated elections service. And we'll have a special election programme on Sky News from 11pm on Thursday nightThe last day of campaigning came against the backdrop of the prime minister's recent apology after being fined for breaking lockdown rules in Downing Street in 2020 - as well as awkward questions for Sir Keir about a gathering in Durham last year. Sir Ed Davey, the Liberal Democrat leader, said that on Thursday voters \"with that pencil... can send a message: get rid of Boris Johnson\" - and reported that lifelong Tories were saying they would never vote for the party again while Mr Johnson was in charge.Meanwhile new figures again highlighted the spiralling cost of living - with industry data showing that shop prices last month climbed at the steepest pace in more than a decade. Separate Bank of England data showed credit card borrowing in March rose at its fastest pace since 2006 - seen as further evidence of a squeeze.Environment Secretary George Eustice told Sky News that shoppers should try to make savings by \"going for some of the value brands\", prompting Labour accuse the Tories of being \"out of touch\" and the Liberal Democrats to suggest they were \"living in a parallel universe\".Mr Eustice also acknowledged on ITV's Good Morning Britain - in response to speculation that poor results on Thursday could lead to more letters of no confidence from Tory MPs - that \"all prime ministers will always be very conscious of the mood in their parliamentary party\". Mr Johnson, speaking while on the campaign trail in Southampton, said: \"The best future for the country is get through the tough patch we have now, support people in any way that we can, but remember we are now seeing a lot of employment and people in high-wage, high-skilled jobs.\"The prime minister has been resistant to opposition calls for a windfall tax on the likes of BP and Shell - which are reaping bumper profits from high energy prices - to pay for more help for families.Mr Johnson argued that persuading those companies to invest in \"more green energy and to help keep costs down\" was \"a much, much better solution than clobbering them and dissuading them, stopping them from making that investment\".The prime minister, who has seen backbench disquiet flare up since his COVID fine, insisted that he was confident in his future, answering a question about whether he would still be in place at the next election with \"of course, of course, of course\". In Wakefield, Labour leader Sir Keir - responding to Mr Eustice's comments about rising prices - said: \"Talk about out of touch, out of ideas and out of excuses.\"So, tomorrow really is a chance to send a message to the government about their abject failure and to vote for a Labour Party that is on their side.\"On the question of a gathering in April 2021, when he was photographed drinking a beer with colleagues while campaigning in Durham - and the subject of which has resurfaced in recent days - Sir Keir said he had had no contact with police and accused Conservatives of \"mudslinging\".\"We were working, we stopped, we ate. No breach of the rules. No party.\"What this mudslinging tells me is that the Conservatives have no answer to the central issue, which is the cost of living crisis.\"\n"
     ]
    }
   ],
   "source": [
    "#link = \"https://www.dailymail.co.uk/news/article-10759651/Ukraine-war-Putin-suggest-use-nukes-necessary.html\"\n",
    "#link = \"https://www.theguardian.com/world/2022/apr/26/unprecedented-phoenician-necropolis-osuna-spain\"\n",
    "link = \"https://news.sky.com/story/local-elections-2022-cost-of-living-and-prime-ministers-future-in-focus-as-election-campaigns-reach-climax-12605293\"\n",
    "\n",
    "sat     = scrape_article_text(link)\n",
    "article = sat.get_article()\n",
    "print(article)"
   ]
  },
  {
   "cell_type": "markdown",
   "id": "underlying-batch",
   "metadata": {
    "tags": []
   },
   "source": [
    "---\n",
    "\n",
    "\n",
    "# 🎓 Summary\n",
    "This concludes the third part of our NLP project.  Using a simple custom class that we import in, we can easily extract an article from any given URL.  The downside being that we need to manually define the labels to extract for each individual news website.\n",
    "\n",
    "Our final step is to bring everything together in our fourth and final part."
   ]
  }
 ],
 "metadata": {
  "kernelspec": {
   "display_name": "Python (3.9)",
   "language": "python",
   "name": "python39"
  },
  "language_info": {
   "codemirror_mode": {
    "name": "ipython",
    "version": 3
   },
   "file_extension": ".py",
   "mimetype": "text/x-python",
   "name": "python",
   "nbconvert_exporter": "python",
   "pygments_lexer": "ipython3",
   "version": "3.9.11"
  }
 },
 "nbformat": 4,
 "nbformat_minor": 5
}
