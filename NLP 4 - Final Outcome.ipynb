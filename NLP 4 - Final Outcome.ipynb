{
 "cells": [
  {
   "cell_type": "markdown",
   "id": "accepted-texas",
   "metadata": {},
   "source": [
    "# NLP 4. Bringing it all together.  The final outcome.\n",
    "\n",
    "**James Morgan (jhmmorgan)**\n",
    "\n",
    "_2022-05-11_\n",
    "\n",
    "# 📖 Background\n",
    "\n",
    "We want a proof of concept, where an end user can easily be provided with a summary of a news article, along with a warning on whether the text is likely to contain hate speech or fake news.\n",
    "\n",
    "This proof of concept would be in the form of a standalone application that when provided the URL to a news article, provides the end-user with the summary of the article, along with a flag if the article may contain hate speech or fake news.\n",
    "\n",
    "### The Task\n",
    "This notebook is **Part 3** of my NLP project. The task of this notebook is to scrape the relevant text from a provided URL.  This text can then be processed by our various NLP models.\n",
    "\n",
    "\n",
    "# 🔬 Approach\n",
    "This is a fairly easy task, thanks to the amazing library **BeautifulSoup**.  Extracting raw text from any URL is fairly simple with only a few lines of code, however configuation is needed to scrape just the relevant parts of that text.\n",
    "\n",
    "\n",
    "\n",
    "# 📚 Libraries and functions\n",
    "We'll start by loading the libraries and then loading in the example data containing various articles of text."
   ]
  },
  {
   "cell_type": "code",
   "execution_count": 1,
   "id": "simplified-visit",
   "metadata": {},
   "outputs": [],
   "source": [
    "from nlp_article_summary import *"
   ]
  },
  {
   "cell_type": "code",
   "execution_count": 2,
   "id": "active-confidence",
   "metadata": {},
   "outputs": [
    {
     "name": "stdout",
     "output_type": "stream",
     "text": [
      "\u001b[41;1m   WARNING: Content might to include hate speech.      \u001b[0m\n",
      "\u001b[41;1m   WARNING: Content might to be fake news.             \u001b[0m\n",
      "\n",
      "\u001b[1;4mSummary of article\u001b[0m\n",
      "He again repeated unsubstantiated claims that Ukraine was seeking to possess nuclear weapons itself or develop biological weapons, which he said posed 'a real threat [to] our motherland. '\n",
      "\n",
      "Earlier today, Kremlin propagandist Vladimir Solovyov directly threatened the UK with nukes - saying that 'one Sarmat missile means minus one Great Britain. '\n",
      "\n",
      "A fake 'attack' by Ukrainian forces - or messages claiming Ukraine will launch an invasion - would help provide a pretext for sending in Russian forces.\n"
     ]
    }
   ],
   "source": [
    "url = \"https://www.dailymail.co.uk/news/article-10759651/Ukraine-war-Putin-suggest-use-nukes-necessary.html\"\n",
    "nlp = NLP_summary()\n",
    "nlp.process_article_from_url(url)"
   ]
  },
  {
   "cell_type": "code",
   "execution_count": 3,
   "id": "aggregate-cigarette",
   "metadata": {},
   "outputs": [
    {
     "name": "stdout",
     "output_type": "stream",
     "text": [
      "\u001b[41;1m   WARNING: Content might to include hate speech.      \u001b[0m\n",
      "\u001b[1;30;47m Content unlikey to be fake news.        \u001b[0m\n",
      "\n",
      "\u001b[1;4mSummary of article\u001b[0m\n",
      "\"The prime minister has been resistant to opposition calls for a windfall tax on the likes of BP and Shell - which are reaping bumper profits from high energy prices - to pay for more help for families.\n",
      "\n",
      "In Wakefield, Labour leader Sir Keir - responding to Mr Eustice's comments about rising prices - said: \"Talk about out of touch, out of ideas and out of excuses.\n",
      "\n",
      "\"On the question of a gathering in April 2021, when he was photographed drinking a beer with colleagues while campaigning in Durham - and the subject of which has resurfaced in recent days - Sir Keir said he had had no contact with police and accused Conservatives of \"mudslinging\".\n"
     ]
    }
   ],
   "source": [
    "url = \"https://news.sky.com/story/local-elections-2022-cost-of-living-and-prime-ministers-future-in-focus-as-election-campaigns-reach-climax-12605293\"\n",
    "nlp.process_article_from_url(url)"
   ]
  },
  {
   "cell_type": "code",
   "execution_count": 5,
   "id": "herbal-winning",
   "metadata": {},
   "outputs": [
    {
     "name": "stdout",
     "output_type": "stream",
     "text": [
      "\u001b[1;30;47m Content unlikey to include hate speech. \u001b[0m\n",
      "\u001b[41;1m   WARNING: Content might to be fake news.             \u001b[0m\n",
      "\n",
      "\u001b[1;4mSummary of article\u001b[0m\n",
      "Channel 4 is to make available 1,000 hours of hit shows from Location, Location, Location to SAS: Who Dares Wins on YouTube in the widest-ranging commercial deal the Silicon Valley giant has struck with a UK broadcaster.\n",
      "\n",
      "In 2009, Channel 4 became the first broadcaster in the world to make thousands of hours of programming available on YouTube.\n",
      "\n",
      "Nadine Dorries’s slip-ups may be funny – but her Channel 4 plans are no joke | Jane MartinsonRead more“Innovative strategic partnerships are Channel 4’s specialty and this new relationship with YouTube is another which will ensure we continue to keep growing our reach with young audiences and build on our unrivalled digital success,” said Alex Mahon, chief executive of Channel 4.\n",
      "\n",
      "“Together with YouTube we have created a powerful consumer channel full of our brilliant Channel 4 content.\n",
      "\n",
      "The deal will involve a combination of popular archive catch-up programming and new releases – after a 30-day window on Channel 4’s on-demand service All 4 after first being broadcast on TV – made available on YouTube starting from later this month.\n"
     ]
    }
   ],
   "source": [
    "url = \"https://www.theguardian.com/media/2022/may/11/channel-4-strikes-deal-to-air-1000-hours-of-hit-shows-for-free-on-youtube\"\n",
    "nlp.process_article_from_url(url, top_n=5)"
   ]
  },
  {
   "cell_type": "markdown",
   "id": "mediterranean-faculty",
   "metadata": {},
   "source": [
    "---\n",
    "\n",
    "\n",
    "# 🎓 Summary\n",
    "This concludes the fourth and final part of my NLP project.  \n",
    "\n",
    "\n",
    "<div class=\"alert alert-block alert-info\">\n",
    "<b>What I did</b>\n",
    "</div>\n",
    "\n",
    "* In part 1, I trained a basic fake news and hate speech model\n",
    "* In part 2, I created an extractive text summarisation class\n",
    "* In part 3, I created a news article web scraper\n",
    "* In part 4, I brought all parts together to summarise a news article and to provide an indication on whether that article is likely to contain hate speech or fake news.\n",
    "\n",
    "\n",
    "<div class=\"alert alert-block alert-info\">\n",
    "<b>How I can improve this project in the future</b>\n",
    "</div>\n",
    "\n",
    "\n",
    "The models aren't perfect.  \n",
    "1. We could train our fake news and hate speech models in a more shopisticated way\n",
    "    - There's no training around the source of articles\n",
    "    - There's no training around key hate words\n",
    "    - There's no understanding of context, which could turn any normal phrase into hate news when used in certain ways.\n",
    "2. The summarisation technique is simple but effective and it'll take significantly more effort to create an abstrative summarisation technique.\n",
    "3. The news article scraper is good, however for the proof of concept we've taken a manual approach of extracting text.\n",
    "     - We could use third-party libraries, or train a model to identify key tags to extract text from\n",
    "4. Our predictions aren't perfect.\n",
    "    - We trained our models on limited data\n",
    "    - The hate speech model was based on tweets, which contain a lot fewer words than a news article, which likely impacts the performance\n",
    "    - So whilst our models perform great on their trained data, this may not translate perfectly to articles of text of different sizes or of different context.\n",
    "\n",
    "\n",
    "That said, as a proof of concept, I consider this project a success.\n",
    "\n",
    "\n",
    "<div class=\"alert alert-block alert-info\">\n",
    "<b>Next Steps</b>\n",
    "</div>\n",
    "\n",
    "One thing missing from this project is a nice front end to run my models.  It would be nice to create a HTML front-end where I can deploy this model for anyone to use."
   ]
  }
 ],
 "metadata": {
  "kernelspec": {
   "display_name": "Python (3.9)",
   "language": "python",
   "name": "python39"
  },
  "language_info": {
   "codemirror_mode": {
    "name": "ipython",
    "version": 3
   },
   "file_extension": ".py",
   "mimetype": "text/x-python",
   "name": "python",
   "nbconvert_exporter": "python",
   "pygments_lexer": "ipython3",
   "version": "3.9.11"
  }
 },
 "nbformat": 4,
 "nbformat_minor": 5
}
